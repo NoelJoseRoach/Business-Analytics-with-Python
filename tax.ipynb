{
  "nbformat": 4,
  "nbformat_minor": 0,
  "metadata": {
    "colab": {
      "name": "tax.ipynb",
      "provenance": []
    },
    "kernelspec": {
      "name": "python3",
      "display_name": "Python 3"
    },
    "language_info": {
      "name": "python"
    }
  },
  "cells": [
    {
      "cell_type": "code",
      "source": [
        "x=int(input('enter a number'))\n",
        "y=int(input('enter a number'))"
      ],
      "metadata": {
        "colab": {
          "base_uri": "https://localhost:8080/"
        },
        "id": "PetVG0AxPkiW",
        "outputId": "d7c56ac0-904e-4cfd-a02c-057acfea22f4"
      },
      "execution_count": null,
      "outputs": [
        {
          "name": "stdout",
          "output_type": "stream",
          "text": [
            "enter a number10\n",
            "enter a number10\n"
          ]
        }
      ]
    },
    {
      "cell_type": "code",
      "source": [
        "print(x+y)"
      ],
      "metadata": {
        "colab": {
          "base_uri": "https://localhost:8080/"
        },
        "id": "NQsEilrHQB6t",
        "outputId": "d5e80b01-dd90-42ff-8dd8-0fc5fcb57183"
      },
      "execution_count": null,
      "outputs": [
        {
          "output_type": "stream",
          "name": "stdout",
          "text": [
            "20\n"
          ]
        }
      ]
    },
    {
      "cell_type": "code",
      "source": [
        "int(x)+int(y)"
      ],
      "metadata": {
        "colab": {
          "base_uri": "https://localhost:8080/"
        },
        "id": "_atwPl4NQNtJ",
        "outputId": "370fb3fe-b87a-4643-e814-33851652e3ea"
      },
      "execution_count": null,
      "outputs": [
        {
          "output_type": "execute_result",
          "data": {
            "text/plain": [
              "300010"
            ]
          },
          "metadata": {},
          "execution_count": 10
        }
      ]
    },
    {
      "cell_type": "code",
      "source": [
        "x+y"
      ],
      "metadata": {
        "colab": {
          "base_uri": "https://localhost:8080/"
        },
        "id": "xuyR4OCIRLvK",
        "outputId": "549fe23c-c7d7-45d0-aa2a-b1c565d982bd"
      },
      "execution_count": null,
      "outputs": [
        {
          "output_type": "execute_result",
          "data": {
            "text/plain": [
              "300010"
            ]
          },
          "metadata": {},
          "execution_count": 11
        }
      ]
    },
    {
      "cell_type": "code",
      "source": [
        "P=int(input('principle amt'))\n",
        "N=int(input('enter the time'))\n",
        "R=int(input('enter the rate'))\n",
        "x=P*N*R/100\n",
        "print(x)\n"
      ],
      "metadata": {
        "colab": {
          "base_uri": "https://localhost:8080/"
        },
        "id": "5SQvERbiT1wt",
        "outputId": "368b8686-a44e-4f40-b67b-48b2680415bf"
      },
      "execution_count": null,
      "outputs": [
        {
          "output_type": "stream",
          "name": "stdout",
          "text": [
            "principle amt10000\n",
            "enter the time2\n",
            "enter the rate5\n",
            "1000.0\n"
          ]
        }
      ]
    },
    {
      "cell_type": "code",
      "source": [
        "x=int(input('enter your mark'))\n"
      ],
      "metadata": {
        "colab": {
          "base_uri": "https://localhost:8080/"
        },
        "id": "EJ6MaVamUgAN",
        "outputId": "e86d765d-ab1d-4517-da1e-c778f15e5c1a"
      },
      "execution_count": null,
      "outputs": [
        {
          "name": "stdout",
          "output_type": "stream",
          "text": [
            "enter your mark10\n"
          ]
        }
      ]
    },
    {
      "cell_type": "code",
      "source": [
        "if x>50 :\n",
        "  print('You have passed')\n",
        "if x<50 :\n",
        "  print('You have not passed')  \n"
      ],
      "metadata": {
        "colab": {
          "base_uri": "https://localhost:8080/"
        },
        "id": "TC0JvXYBX1h1",
        "outputId": "0d8e3a66-37a4-4731-ba8b-0ab388f3429e"
      },
      "execution_count": null,
      "outputs": [
        {
          "output_type": "stream",
          "name": "stdout",
          "text": [
            "You have passed\n"
          ]
        }
      ]
    },
    {
      "cell_type": "code",
      "source": [
        "x=int(input(\"enter your salary\"))"
      ],
      "metadata": {
        "colab": {
          "base_uri": "https://localhost:8080/"
        },
        "id": "etnijcyRYA36",
        "outputId": "933ec062-befb-432a-bf41-0211d94d11e9"
      },
      "execution_count": 36,
      "outputs": [
        {
          "name": "stdout",
          "output_type": "stream",
          "text": [
            "enter your salary600000\n"
          ]
        }
      ]
    },
    {
      "cell_type": "code",
      "source": [
        "if x<250000 :\n",
        "  print('you are not taxable')\n",
        "if 250000<x<500000:\n",
        "  print('you are taxable')  \n",
        "if x>500000:\n",
        "  print('you are high on tax')  \n"
      ],
      "metadata": {
        "colab": {
          "base_uri": "https://localhost:8080/"
        },
        "id": "fUxJ0CuLaky-",
        "outputId": "7df34ac8-6ef2-4cd3-f5fc-c95cb22a9efb"
      },
      "execution_count": 37,
      "outputs": [
        {
          "output_type": "stream",
          "name": "stdout",
          "text": [
            "you are high on tax\n"
          ]
        }
      ]
    },
    {
      "cell_type": "code",
      "source": [
        "t=10/100\n",
        "tax=x*t\n",
        "print(tax)"
      ],
      "metadata": {
        "id": "BwGD6whCbD_X",
        "colab": {
          "base_uri": "https://localhost:8080/"
        },
        "outputId": "9a7744ea-b747-40e8-a967-1fb1e08f7d5d"
      },
      "execution_count": 38,
      "outputs": [
        {
          "output_type": "stream",
          "name": "stdout",
          "text": [
            "60000.0\n"
          ]
        }
      ]
    },
    {
      "cell_type": "code",
      "source": [
        ""
      ],
      "metadata": {
        "id": "ICKEckBtdFbQ"
      },
      "execution_count": null,
      "outputs": []
    },
    {
      "cell_type": "code",
      "source": [
        ""
      ],
      "metadata": {
        "id": "3kEcf9qgdC6o"
      },
      "execution_count": null,
      "outputs": []
    }
  ]
}